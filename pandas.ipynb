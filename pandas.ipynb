{
 "cells": [
  {
   "cell_type": "code",
   "execution_count": 31,
   "id": "6fbd437b-d82a-4fa5-8d94-6108077b58eb",
   "metadata": {},
   "outputs": [],
   "source": [
    "import os\n",
    "import pandas as pd\n",
    "import numpy as np\n",
    "os.chdir(\"D:/works/Jupyter Notebooks/\")"
   ]
  },
  {
   "cell_type": "code",
   "execution_count": 34,
   "id": "b1d88542-0da5-44d7-bdeb-25443bf72bcd",
   "metadata": {},
   "outputs": [
    {
     "name": "stdout",
     "output_type": "stream",
     "text": [
      "(1436, 10)\n"
     ]
    }
   ],
   "source": [
    "data = pd.read_csv(\"Toyota.csv\", index_col=0, na_values=[\"??\", \"????\"])\n",
    "print(data.shape)"
   ]
  },
  {
   "cell_type": "code",
   "execution_count": 12,
   "id": "545dd7fe-36aa-4629-ab0f-80ca8c396c25",
   "metadata": {},
   "outputs": [
    {
     "name": "stdout",
     "output_type": "stream",
     "text": [
      "Index([   0,    1,    2,    3,    4,    5,    6,    7,    8,    9,\n",
      "       ...\n",
      "       1426, 1427, 1428, 1429, 1430, 1431, 1432, 1433, 1434, 1435],\n",
      "      dtype='int64', length=1436)\n",
      "Index(['Price', 'Age', 'KM', 'FuelType', 'HP', 'MetColor', 'Automatic', 'CC',\n",
      "       'Doors', 'Weight'],\n",
      "      dtype='object')\n",
      "14360\n"
     ]
    }
   ],
   "source": [
    "print(data.index)\n",
    "print(data.columns)\n",
    "print(data.size)"
   ]
  },
  {
   "cell_type": "code",
   "execution_count": 13,
   "id": "98d23e22-17f7-4384-9ddc-799d3d8fe93e",
   "metadata": {},
   "outputs": [
    {
     "name": "stdout",
     "output_type": "stream",
     "text": [
      "2\n"
     ]
    }
   ],
   "source": [
    "print(data.ndim)"
   ]
  },
  {
   "cell_type": "code",
   "execution_count": 15,
   "id": "36e472f5-1989-4d65-aea3-3bf61c5330b5",
   "metadata": {},
   "outputs": [
    {
     "name": "stdout",
     "output_type": "stream",
     "text": [
      "   Price   Age     KM FuelType  HP  MetColor  Automatic    CC  Doors  Weight\n",
      "0  13500  23.0  46986   Diesel  90       1.0          0  2000  three    1165\n",
      "1  13750  23.0  72937   Diesel  90       1.0          0  2000      3    1165\n",
      "2  13950  24.0  41711   Diesel  90       NaN          0  2000      3    1165\n",
      "3  14950  26.0  48000   Diesel  90       0.0          0  2000      3    1165\n",
      "4  13750  30.0  38500   Diesel  90       0.0          0  2000      3    1170\n",
      "5  12950  32.0  61000   Diesel  90       0.0          0  2000      3    1170\n"
     ]
    }
   ],
   "source": [
    "print(data.head(6))"
   ]
  },
  {
   "cell_type": "code",
   "execution_count": 16,
   "id": "30cea28d-abc0-46a1-8e10-2a17a4903106",
   "metadata": {},
   "outputs": [
    {
     "name": "stdout",
     "output_type": "stream",
     "text": [
      "      Price   Age     KM FuelType   HP  MetColor  Automatic    CC Doors  \\\n",
      "1429   8950  78.0  24000   Petrol   86       1.0          1  1300     5   \n",
      "1430   8450  80.0  23000   Petrol   86       0.0          0  1300     3   \n",
      "1431   7500   NaN  20544   Petrol   86       1.0          0  1300     3   \n",
      "1432  10845  72.0     ??   Petrol   86       0.0          0  1300     3   \n",
      "1433   8500   NaN  17016   Petrol   86       0.0          0  1300     3   \n",
      "1434   7250  70.0     ??      NaN   86       1.0          0  1300     3   \n",
      "1435   6950  76.0      1   Petrol  110       0.0          0  1600     5   \n",
      "\n",
      "      Weight  \n",
      "1429    1065  \n",
      "1430    1015  \n",
      "1431    1025  \n",
      "1432    1015  \n",
      "1433    1015  \n",
      "1434    1015  \n",
      "1435    1114  \n"
     ]
    }
   ],
   "source": [
    "print(data.tail(7))"
   ]
  },
  {
   "cell_type": "code",
   "execution_count": 18,
   "id": "0977631d-a7fb-482c-8e37-12e02d447802",
   "metadata": {},
   "outputs": [
    {
     "name": "stdout",
     "output_type": "stream",
     "text": [
      "38500\n"
     ]
    }
   ],
   "source": [
    "print(data.at[4, \"KM\"])"
   ]
  },
  {
   "cell_type": "code",
   "execution_count": 19,
   "id": "dae82910-ad2e-4b3c-b478-80b6dcf2821f",
   "metadata": {},
   "outputs": [
    {
     "name": "stdout",
     "output_type": "stream",
     "text": [
      "13750\n"
     ]
    }
   ],
   "source": [
    "print(data.iat[4, 0])"
   ]
  },
  {
   "cell_type": "code",
   "execution_count": 20,
   "id": "41a71a86-2089-4342-a3ce-ca33d62e294e",
   "metadata": {},
   "outputs": [
    {
     "name": "stdout",
     "output_type": "stream",
     "text": [
      "0       Diesel\n",
      "1       Diesel\n",
      "2       Diesel\n",
      "3       Diesel\n",
      "4       Diesel\n",
      "         ...  \n",
      "1431    Petrol\n",
      "1432    Petrol\n",
      "1433    Petrol\n",
      "1434       NaN\n",
      "1435    Petrol\n",
      "Name: FuelType, Length: 1436, dtype: object\n"
     ]
    }
   ],
   "source": [
    "print(data.loc[:, \"FuelType\"])"
   ]
  },
  {
   "cell_type": "code",
   "execution_count": 35,
   "id": "aeaea31d-de09-4ac9-aff3-1af8c9b1bf92",
   "metadata": {},
   "outputs": [
    {
     "name": "stdout",
     "output_type": "stream",
     "text": [
      "Price          int64\n",
      "Age          float64\n",
      "KM           float64\n",
      "FuelType      object\n",
      "HP           float64\n",
      "MetColor     float64\n",
      "Automatic      int64\n",
      "CC             int64\n",
      "Doors         object\n",
      "Weight         int64\n",
      "dtype: object\n",
      "int64      4\n",
      "float64    4\n",
      "object     2\n",
      "Name: count, dtype: int64\n"
     ]
    }
   ],
   "source": [
    "print(data.dtypes)\n",
    "print(data.dtypes.value_counts())"
   ]
  },
  {
   "cell_type": "code",
   "execution_count": 29,
   "id": "9221e82d-2da8-4dba-a1c9-773c12a67e8c",
   "metadata": {},
   "outputs": [
    {
     "name": "stdout",
     "output_type": "stream",
     "text": [
      "      Price   Age  MetColor  Automatic    CC  Weight\n",
      "0     13500  23.0       1.0          0  2000    1165\n",
      "1     13750  23.0       1.0          0  2000    1165\n",
      "2     13950  24.0       NaN          0  2000    1165\n",
      "3     14950  26.0       0.0          0  2000    1165\n",
      "4     13750  30.0       0.0          0  2000    1170\n",
      "...     ...   ...       ...        ...   ...     ...\n",
      "1431   7500   NaN       1.0          0  1300    1025\n",
      "1432  10845  72.0       0.0          0  1300    1015\n",
      "1433   8500   NaN       0.0          0  1300    1015\n",
      "1434   7250  70.0       1.0          0  1300    1015\n",
      "1435   6950  76.0       0.0          0  1600    1114\n",
      "\n",
      "[1436 rows x 6 columns]\n",
      "      Price  Automatic    CC  Weight\n",
      "0     13500          0  2000    1165\n",
      "1     13750          0  2000    1165\n",
      "2     13950          0  2000    1165\n",
      "3     14950          0  2000    1165\n",
      "4     13750          0  2000    1170\n",
      "...     ...        ...   ...     ...\n",
      "1431   7500          0  1300    1025\n",
      "1432  10845          0  1300    1015\n",
      "1433   8500          0  1300    1015\n",
      "1434   7250          0  1300    1015\n",
      "1435   6950          0  1600    1114\n",
      "\n",
      "[1436 rows x 4 columns]\n"
     ]
    }
   ],
   "source": [
    "print(data.select_dtypes(exclude=[object], include=[]))\n",
    "print(data.select_dtypes(exclude=[], include=[int]))"
   ]
  },
  {
   "cell_type": "code",
   "execution_count": 39,
   "id": "a7ba7546-e866-4853-a7e0-aff951179a49",
   "metadata": {},
   "outputs": [
    {
     "name": "stdout",
     "output_type": "stream",
     "text": [
      "<class 'pandas.core.frame.DataFrame'>\n",
      "Index: 1436 entries, 0 to 1435\n",
      "Data columns (total 10 columns):\n",
      " #   Column     Non-Null Count  Dtype  \n",
      "---  ------     --------------  -----  \n",
      " 0   Price      1436 non-null   int64  \n",
      " 1   Age        1336 non-null   float64\n",
      " 2   KM         1421 non-null   float64\n",
      " 3   FuelType   1336 non-null   object \n",
      " 4   HP         1430 non-null   float64\n",
      " 5   MetColor   1286 non-null   object \n",
      " 6   Automatic  1436 non-null   object \n",
      " 7   CC         1436 non-null   int64  \n",
      " 8   Doors      1436 non-null   object \n",
      " 9   Weight     1436 non-null   int64  \n",
      "dtypes: float64(3), int64(3), object(4)\n",
      "memory usage: 123.4+ KB\n",
      "None\n"
     ]
    }
   ],
   "source": [
    "print(data.info())"
   ]
  },
  {
   "cell_type": "code",
   "execution_count": 50,
   "id": "65412184-a5d1-42cd-a4fb-2687352e84e8",
   "metadata": {},
   "outputs": [
    {
     "name": "stdout",
     "output_type": "stream",
     "text": [
      "[2 3 4 5]\n"
     ]
    }
   ],
   "source": [
    "print(np.unique(data[\"Doors\"]))"
   ]
  },
  {
   "cell_type": "code",
   "execution_count": 38,
   "id": "f1fbe56b-1bfe-47d0-9049-48b2c37422bf",
   "metadata": {},
   "outputs": [],
   "source": [
    "data[\"MetColor\"] = data[\"MetColor\"].astype(\"object\")\n",
    "data[\"Automatic\"] = data[\"Automatic\"].astype(\"object\")"
   ]
  },
  {
   "cell_type": "code",
   "execution_count": 49,
   "id": "dac4bc1d-b59e-4e0b-87a5-04dd537a404f",
   "metadata": {},
   "outputs": [],
   "source": [
    "data[\"Doors\"] = data[\"Doors\"].replace(\"three\", 3).astype(int)\n",
    "data[\"Doors\"] = data[\"Doors\"].replace(\"four\", 4).astype(int)\n",
    "data[\"Doors\"] = data[\"Doors\"].replace(\"five\", 5).astype(int)"
   ]
  },
  {
   "cell_type": "code",
   "execution_count": 46,
   "id": "3079797d-0de2-4595-85b5-4e2549f5823f",
   "metadata": {},
   "outputs": [
    {
     "name": "stdout",
     "output_type": "stream",
     "text": [
      "0       3\n",
      "1       3\n",
      "2       3\n",
      "3       3\n",
      "4       3\n",
      "       ..\n",
      "1431    3\n",
      "1432    3\n",
      "1433    3\n",
      "1434    3\n",
      "1435    5\n",
      "Name: Doors, Length: 1436, dtype: object\n"
     ]
    }
   ],
   "source": [
    "print(data[\"Doors\"])"
   ]
  },
  {
   "cell_type": "code",
   "execution_count": 52,
   "id": "7010f4bc-5f01-4133-95b3-489d5223cdbb",
   "metadata": {},
   "outputs": [
    {
     "name": "stdout",
     "output_type": "stream",
     "text": [
      "Price          0\n",
      "Age          100\n",
      "KM            15\n",
      "FuelType     100\n",
      "HP             6\n",
      "MetColor     150\n",
      "Automatic      0\n",
      "CC             0\n",
      "Doors          0\n",
      "Weight         0\n",
      "dtype: int64\n"
     ]
    }
   ],
   "source": [
    "print(data.isnull().sum())"
   ]
  },
  {
   "cell_type": "code",
   "execution_count": null,
   "id": "cf5ae278-82e4-4ec6-90d2-e366c5ffb400",
   "metadata": {},
   "outputs": [],
   "source": []
  }
 ],
 "metadata": {
  "kernelspec": {
   "display_name": "Python 3 (ipykernel)",
   "language": "python",
   "name": "python3"
  },
  "language_info": {
   "codemirror_mode": {
    "name": "ipython",
    "version": 3
   },
   "file_extension": ".py",
   "mimetype": "text/x-python",
   "name": "python",
   "nbconvert_exporter": "python",
   "pygments_lexer": "ipython3",
   "version": "3.11.4"
  }
 },
 "nbformat": 4,
 "nbformat_minor": 5
}
